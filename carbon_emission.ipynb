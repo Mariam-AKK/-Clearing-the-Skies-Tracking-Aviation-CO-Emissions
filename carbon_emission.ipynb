{
 "cells": [
  {
   "cell_type": "code",
   "execution_count": 101,
   "id": "d4bc6442-f29e-4a22-adcc-7f1bac5ad06e",
   "metadata": {},
   "outputs": [],
   "source": [
    "import pandas as pd\n",
    "import numpy as np\n",
    "import matplotlib.pyplot as plt\n",
    "import seaborn as sns"
   ]
  },
  {
   "cell_type": "code",
   "execution_count": 102,
   "id": "f4be63a0-5450-488f-852e-50d1090db3a7",
   "metadata": {},
   "outputs": [],
   "source": [
    "dome_df = pd.read_csv(\"domestic-aviation_emissions_sources_confidence.csv\", encoding='latin-1')"
   ]
  },
  {
   "cell_type": "code",
   "execution_count": 103,
   "id": "3c91357e-7ac0-403d-a777-e2fc8d026c1e",
   "metadata": {},
   "outputs": [
    {
     "data": {
      "text/plain": [
       "(236244, 16)"
      ]
     },
     "execution_count": 103,
     "metadata": {},
     "output_type": "execute_result"
    }
   ],
   "source": [
    "dome_df.shape"
   ]
  },
  {
   "cell_type": "code",
   "execution_count": 104,
   "id": "a97909a0-a0dc-477b-a5d4-5ac5b406d441",
   "metadata": {},
   "outputs": [
    {
     "name": "stdout",
     "output_type": "stream",
     "text": [
      "<class 'pandas.core.frame.DataFrame'>\n",
      "RangeIndex: 236244 entries, 0 to 236243\n",
      "Data columns (total 16 columns):\n",
      " #   Column              Non-Null Count   Dtype  \n",
      "---  ------              --------------   -----  \n",
      " 0   source_id           236244 non-null  int64  \n",
      " 1   source_name         0 non-null       float64\n",
      " 2   iso3_country        236244 non-null  object \n",
      " 3   sector              236244 non-null  object \n",
      " 4   subsector           236244 non-null  object \n",
      " 5   start_time          236244 non-null  object \n",
      " 6   end_time            236244 non-null  object \n",
      " 7   source_type         236244 non-null  object \n",
      " 8   capacity            236244 non-null  object \n",
      " 9   capacity_factor     236244 non-null  object \n",
      " 10  activity            236244 non-null  object \n",
      " 11  gas                 236244 non-null  object \n",
      " 12  emissions_factor    236244 non-null  object \n",
      " 13  emissions_quantity  236244 non-null  object \n",
      " 14  created_date        0 non-null       float64\n",
      " 15  modified_date       236244 non-null  object \n",
      "dtypes: float64(2), int64(1), object(13)\n",
      "memory usage: 28.8+ MB\n"
     ]
    }
   ],
   "source": [
    "dome_df.info()"
   ]
  },
  {
   "cell_type": "code",
   "execution_count": 105,
   "id": "ca2ced3a-709e-4e0f-a370-025acb6af4d3",
   "metadata": {},
   "outputs": [
    {
     "data": {
      "text/html": [
       "<div>\n",
       "<style scoped>\n",
       "    .dataframe tbody tr th:only-of-type {\n",
       "        vertical-align: middle;\n",
       "    }\n",
       "\n",
       "    .dataframe tbody tr th {\n",
       "        vertical-align: top;\n",
       "    }\n",
       "\n",
       "    .dataframe thead th {\n",
       "        text-align: right;\n",
       "    }\n",
       "</style>\n",
       "<table border=\"1\" class=\"dataframe\">\n",
       "  <thead>\n",
       "    <tr style=\"text-align: right;\">\n",
       "      <th></th>\n",
       "      <th>source_id</th>\n",
       "      <th>source_name</th>\n",
       "      <th>iso3_country</th>\n",
       "      <th>sector</th>\n",
       "      <th>subsector</th>\n",
       "      <th>start_time</th>\n",
       "      <th>end_time</th>\n",
       "      <th>source_type</th>\n",
       "      <th>capacity</th>\n",
       "      <th>capacity_factor</th>\n",
       "      <th>activity</th>\n",
       "      <th>gas</th>\n",
       "      <th>emissions_factor</th>\n",
       "      <th>emissions_quantity</th>\n",
       "      <th>created_date</th>\n",
       "      <th>modified_date</th>\n",
       "    </tr>\n",
       "  </thead>\n",
       "  <tbody>\n",
       "    <tr>\n",
       "      <th>0</th>\n",
       "      <td>3170555</td>\n",
       "      <td>NaN</td>\n",
       "      <td>ABW</td>\n",
       "      <td>transportation</td>\n",
       "      <td>domestic-aviation</td>\n",
       "      <td>1/1/2023 0:00</td>\n",
       "      <td>1/31/2023 0:00</td>\n",
       "      <td>very low</td>\n",
       "      <td>very low</td>\n",
       "      <td>very low</td>\n",
       "      <td>very low</td>\n",
       "      <td>co2</td>\n",
       "      <td>very low</td>\n",
       "      <td>very low</td>\n",
       "      <td>NaN</td>\n",
       "      <td>5/15/2025 5:18</td>\n",
       "    </tr>\n",
       "    <tr>\n",
       "      <th>1</th>\n",
       "      <td>3170555</td>\n",
       "      <td>NaN</td>\n",
       "      <td>ABW</td>\n",
       "      <td>transportation</td>\n",
       "      <td>domestic-aviation</td>\n",
       "      <td>2/1/2023 0:00</td>\n",
       "      <td>2/28/2023 0:00</td>\n",
       "      <td>very low</td>\n",
       "      <td>very low</td>\n",
       "      <td>very low</td>\n",
       "      <td>very low</td>\n",
       "      <td>co2</td>\n",
       "      <td>very low</td>\n",
       "      <td>very low</td>\n",
       "      <td>NaN</td>\n",
       "      <td>5/15/2025 5:18</td>\n",
       "    </tr>\n",
       "    <tr>\n",
       "      <th>2</th>\n",
       "      <td>3170555</td>\n",
       "      <td>NaN</td>\n",
       "      <td>ABW</td>\n",
       "      <td>transportation</td>\n",
       "      <td>domestic-aviation</td>\n",
       "      <td>3/1/2023 0:00</td>\n",
       "      <td>3/31/2023 0:00</td>\n",
       "      <td>very low</td>\n",
       "      <td>very low</td>\n",
       "      <td>very low</td>\n",
       "      <td>very low</td>\n",
       "      <td>co2</td>\n",
       "      <td>very low</td>\n",
       "      <td>very low</td>\n",
       "      <td>NaN</td>\n",
       "      <td>5/15/2025 5:18</td>\n",
       "    </tr>\n",
       "    <tr>\n",
       "      <th>3</th>\n",
       "      <td>3170555</td>\n",
       "      <td>NaN</td>\n",
       "      <td>ABW</td>\n",
       "      <td>transportation</td>\n",
       "      <td>domestic-aviation</td>\n",
       "      <td>4/1/2023 0:00</td>\n",
       "      <td>4/30/2023 0:00</td>\n",
       "      <td>very low</td>\n",
       "      <td>very low</td>\n",
       "      <td>very low</td>\n",
       "      <td>very low</td>\n",
       "      <td>co2</td>\n",
       "      <td>very low</td>\n",
       "      <td>very low</td>\n",
       "      <td>NaN</td>\n",
       "      <td>5/15/2025 5:18</td>\n",
       "    </tr>\n",
       "    <tr>\n",
       "      <th>4</th>\n",
       "      <td>3170555</td>\n",
       "      <td>NaN</td>\n",
       "      <td>ABW</td>\n",
       "      <td>transportation</td>\n",
       "      <td>domestic-aviation</td>\n",
       "      <td>5/1/2023 0:00</td>\n",
       "      <td>5/31/2023 0:00</td>\n",
       "      <td>very low</td>\n",
       "      <td>very low</td>\n",
       "      <td>very low</td>\n",
       "      <td>very low</td>\n",
       "      <td>co2</td>\n",
       "      <td>very low</td>\n",
       "      <td>very low</td>\n",
       "      <td>NaN</td>\n",
       "      <td>5/15/2025 5:18</td>\n",
       "    </tr>\n",
       "  </tbody>\n",
       "</table>\n",
       "</div>"
      ],
      "text/plain": [
       "   source_id  source_name iso3_country          sector          subsector  \\\n",
       "0    3170555          NaN          ABW  transportation  domestic-aviation   \n",
       "1    3170555          NaN          ABW  transportation  domestic-aviation   \n",
       "2    3170555          NaN          ABW  transportation  domestic-aviation   \n",
       "3    3170555          NaN          ABW  transportation  domestic-aviation   \n",
       "4    3170555          NaN          ABW  transportation  domestic-aviation   \n",
       "\n",
       "      start_time        end_time source_type  capacity capacity_factor  \\\n",
       "0  1/1/2023 0:00  1/31/2023 0:00    very low  very low        very low   \n",
       "1  2/1/2023 0:00  2/28/2023 0:00    very low  very low        very low   \n",
       "2  3/1/2023 0:00  3/31/2023 0:00    very low  very low        very low   \n",
       "3  4/1/2023 0:00  4/30/2023 0:00    very low  very low        very low   \n",
       "4  5/1/2023 0:00  5/31/2023 0:00    very low  very low        very low   \n",
       "\n",
       "   activity  gas emissions_factor emissions_quantity  created_date  \\\n",
       "0  very low  co2         very low           very low           NaN   \n",
       "1  very low  co2         very low           very low           NaN   \n",
       "2  very low  co2         very low           very low           NaN   \n",
       "3  very low  co2         very low           very low           NaN   \n",
       "4  very low  co2         very low           very low           NaN   \n",
       "\n",
       "    modified_date  \n",
       "0  5/15/2025 5:18  \n",
       "1  5/15/2025 5:18  \n",
       "2  5/15/2025 5:18  \n",
       "3  5/15/2025 5:18  \n",
       "4  5/15/2025 5:18  "
      ]
     },
     "execution_count": 105,
     "metadata": {},
     "output_type": "execute_result"
    }
   ],
   "source": [
    "dome_df.head()"
   ]
  },
  {
   "cell_type": "code",
   "execution_count": 106,
   "id": "0e0261b4-2245-4559-a456-8d0b51bbf76e",
   "metadata": {},
   "outputs": [],
   "source": [
    "inter_df = pd.read_csv(\"international-aviation_emissions_sources_confidence.csv\", encoding='latin-1')"
   ]
  },
  {
   "cell_type": "code",
   "execution_count": 107,
   "id": "b8e19510-2b78-4965-863b-0a33a5bce08f",
   "metadata": {},
   "outputs": [
    {
     "data": {
      "text/plain": [
       "(240167, 16)"
      ]
     },
     "execution_count": 107,
     "metadata": {},
     "output_type": "execute_result"
    }
   ],
   "source": [
    "inter_df.shape"
   ]
  },
  {
   "cell_type": "code",
   "execution_count": 108,
   "id": "6c6c4741-6005-4d28-af0d-9b0b9d363be2",
   "metadata": {},
   "outputs": [
    {
     "name": "stdout",
     "output_type": "stream",
     "text": [
      "<class 'pandas.core.frame.DataFrame'>\n",
      "RangeIndex: 240167 entries, 0 to 240166\n",
      "Data columns (total 16 columns):\n",
      " #   Column              Non-Null Count   Dtype  \n",
      "---  ------              --------------   -----  \n",
      " 0   source_id           240167 non-null  int64  \n",
      " 1   source_name         0 non-null       float64\n",
      " 2   iso3_country        240167 non-null  object \n",
      " 3   sector              240167 non-null  object \n",
      " 4   subsector           240167 non-null  object \n",
      " 5   start_time          240167 non-null  object \n",
      " 6   end_time            240167 non-null  object \n",
      " 7   source_type         240167 non-null  object \n",
      " 8   capacity            240167 non-null  object \n",
      " 9   capacity_factor     240167 non-null  object \n",
      " 10  activity            240167 non-null  object \n",
      " 11  gas                 240167 non-null  object \n",
      " 12  emissions_factor    240167 non-null  object \n",
      " 13  emissions_quantity  240167 non-null  object \n",
      " 14  created_date        0 non-null       float64\n",
      " 15  modified_date       240167 non-null  object \n",
      "dtypes: float64(2), int64(1), object(13)\n",
      "memory usage: 29.3+ MB\n"
     ]
    }
   ],
   "source": [
    "inter_df.info()"
   ]
  },
  {
   "cell_type": "code",
   "execution_count": 109,
   "id": "330d0fa0-9cc4-40da-b6cf-a713a0bd469e",
   "metadata": {},
   "outputs": [
    {
     "data": {
      "text/html": [
       "<div>\n",
       "<style scoped>\n",
       "    .dataframe tbody tr th:only-of-type {\n",
       "        vertical-align: middle;\n",
       "    }\n",
       "\n",
       "    .dataframe tbody tr th {\n",
       "        vertical-align: top;\n",
       "    }\n",
       "\n",
       "    .dataframe thead th {\n",
       "        text-align: right;\n",
       "    }\n",
       "</style>\n",
       "<table border=\"1\" class=\"dataframe\">\n",
       "  <thead>\n",
       "    <tr style=\"text-align: right;\">\n",
       "      <th></th>\n",
       "      <th>source_id</th>\n",
       "      <th>source_name</th>\n",
       "      <th>iso3_country</th>\n",
       "      <th>sector</th>\n",
       "      <th>subsector</th>\n",
       "      <th>start_time</th>\n",
       "      <th>end_time</th>\n",
       "      <th>source_type</th>\n",
       "      <th>capacity</th>\n",
       "      <th>capacity_factor</th>\n",
       "      <th>activity</th>\n",
       "      <th>gas</th>\n",
       "      <th>emissions_factor</th>\n",
       "      <th>emissions_quantity</th>\n",
       "      <th>created_date</th>\n",
       "      <th>modified_date</th>\n",
       "    </tr>\n",
       "  </thead>\n",
       "  <tbody>\n",
       "    <tr>\n",
       "      <th>0</th>\n",
       "      <td>3165649</td>\n",
       "      <td>NaN</td>\n",
       "      <td>ABW</td>\n",
       "      <td>transportation</td>\n",
       "      <td>international-aviation</td>\n",
       "      <td>1/1/2021 0:00</td>\n",
       "      <td>1/31/2021 0:00</td>\n",
       "      <td>very high</td>\n",
       "      <td>high</td>\n",
       "      <td>medium</td>\n",
       "      <td>low</td>\n",
       "      <td>co2</td>\n",
       "      <td>very high</td>\n",
       "      <td>low</td>\n",
       "      <td>NaN</td>\n",
       "      <td>5/15/2025 5:18</td>\n",
       "    </tr>\n",
       "    <tr>\n",
       "      <th>1</th>\n",
       "      <td>3165649</td>\n",
       "      <td>NaN</td>\n",
       "      <td>ABW</td>\n",
       "      <td>transportation</td>\n",
       "      <td>international-aviation</td>\n",
       "      <td>2/1/2021 0:00</td>\n",
       "      <td>2/28/2021 0:00</td>\n",
       "      <td>very high</td>\n",
       "      <td>high</td>\n",
       "      <td>medium</td>\n",
       "      <td>low</td>\n",
       "      <td>co2</td>\n",
       "      <td>very high</td>\n",
       "      <td>low</td>\n",
       "      <td>NaN</td>\n",
       "      <td>5/15/2025 5:18</td>\n",
       "    </tr>\n",
       "    <tr>\n",
       "      <th>2</th>\n",
       "      <td>3165649</td>\n",
       "      <td>NaN</td>\n",
       "      <td>ABW</td>\n",
       "      <td>transportation</td>\n",
       "      <td>international-aviation</td>\n",
       "      <td>3/1/2021 0:00</td>\n",
       "      <td>3/31/2021 0:00</td>\n",
       "      <td>very high</td>\n",
       "      <td>high</td>\n",
       "      <td>medium</td>\n",
       "      <td>low</td>\n",
       "      <td>co2</td>\n",
       "      <td>very high</td>\n",
       "      <td>low</td>\n",
       "      <td>NaN</td>\n",
       "      <td>5/15/2025 5:18</td>\n",
       "    </tr>\n",
       "    <tr>\n",
       "      <th>3</th>\n",
       "      <td>3165649</td>\n",
       "      <td>NaN</td>\n",
       "      <td>ABW</td>\n",
       "      <td>transportation</td>\n",
       "      <td>international-aviation</td>\n",
       "      <td>4/1/2021 0:00</td>\n",
       "      <td>4/30/2021 0:00</td>\n",
       "      <td>very high</td>\n",
       "      <td>high</td>\n",
       "      <td>medium</td>\n",
       "      <td>low</td>\n",
       "      <td>co2</td>\n",
       "      <td>very high</td>\n",
       "      <td>low</td>\n",
       "      <td>NaN</td>\n",
       "      <td>5/15/2025 5:18</td>\n",
       "    </tr>\n",
       "    <tr>\n",
       "      <th>4</th>\n",
       "      <td>3165649</td>\n",
       "      <td>NaN</td>\n",
       "      <td>ABW</td>\n",
       "      <td>transportation</td>\n",
       "      <td>international-aviation</td>\n",
       "      <td>5/1/2021 0:00</td>\n",
       "      <td>5/31/2021 0:00</td>\n",
       "      <td>very high</td>\n",
       "      <td>high</td>\n",
       "      <td>medium</td>\n",
       "      <td>low</td>\n",
       "      <td>co2</td>\n",
       "      <td>very high</td>\n",
       "      <td>low</td>\n",
       "      <td>NaN</td>\n",
       "      <td>5/15/2025 5:18</td>\n",
       "    </tr>\n",
       "  </tbody>\n",
       "</table>\n",
       "</div>"
      ],
      "text/plain": [
       "   source_id  source_name iso3_country          sector  \\\n",
       "0    3165649          NaN          ABW  transportation   \n",
       "1    3165649          NaN          ABW  transportation   \n",
       "2    3165649          NaN          ABW  transportation   \n",
       "3    3165649          NaN          ABW  transportation   \n",
       "4    3165649          NaN          ABW  transportation   \n",
       "\n",
       "                subsector     start_time        end_time source_type capacity  \\\n",
       "0  international-aviation  1/1/2021 0:00  1/31/2021 0:00   very high     high   \n",
       "1  international-aviation  2/1/2021 0:00  2/28/2021 0:00   very high     high   \n",
       "2  international-aviation  3/1/2021 0:00  3/31/2021 0:00   very high     high   \n",
       "3  international-aviation  4/1/2021 0:00  4/30/2021 0:00   very high     high   \n",
       "4  international-aviation  5/1/2021 0:00  5/31/2021 0:00   very high     high   \n",
       "\n",
       "  capacity_factor activity  gas emissions_factor emissions_quantity  \\\n",
       "0          medium      low  co2        very high                low   \n",
       "1          medium      low  co2        very high                low   \n",
       "2          medium      low  co2        very high                low   \n",
       "3          medium      low  co2        very high                low   \n",
       "4          medium      low  co2        very high                low   \n",
       "\n",
       "   created_date   modified_date  \n",
       "0           NaN  5/15/2025 5:18  \n",
       "1           NaN  5/15/2025 5:18  \n",
       "2           NaN  5/15/2025 5:18  \n",
       "3           NaN  5/15/2025 5:18  \n",
       "4           NaN  5/15/2025 5:18  "
      ]
     },
     "execution_count": 109,
     "metadata": {},
     "output_type": "execute_result"
    }
   ],
   "source": [
    "inter_df.head()"
   ]
  },
  {
   "cell_type": "code",
   "execution_count": 110,
   "id": "d1d5a42b-9606-468f-8939-476958c3a25f",
   "metadata": {},
   "outputs": [
    {
     "name": "stdout",
     "output_type": "stream",
     "text": [
      "Index(['source_id', 'source_name', 'iso3_country', 'sector', 'subsector',\n",
      "       'start_time', 'end_time', 'source_type', 'capacity', 'capacity_factor',\n",
      "       'activity', 'gas', 'emissions_factor', 'emissions_quantity',\n",
      "       'created_date', 'modified_date'],\n",
      "      dtype='object')\n",
      "Index(['source_id', 'source_name', 'iso3_country', 'sector', 'subsector',\n",
      "       'start_time', 'end_time', 'source_type', 'capacity', 'capacity_factor',\n",
      "       'activity', 'gas', 'emissions_factor', 'emissions_quantity',\n",
      "       'created_date', 'modified_date'],\n",
      "      dtype='object')\n"
     ]
    }
   ],
   "source": [
    "print(dome_df.columns)\n",
    "print(inter_df.columns)"
   ]
  },
  {
   "cell_type": "code",
   "execution_count": 111,
   "id": "c87ba69c-d4a1-4c58-86dc-c02096859c48",
   "metadata": {},
   "outputs": [
    {
     "name": "stdout",
     "output_type": "stream",
     "text": [
      "(236244, 16)\n",
      "(240167, 16)\n"
     ]
    }
   ],
   "source": [
    "print(dome_df.shape)\n",
    "print(inter_df.shape)"
   ]
  },
  {
   "cell_type": "code",
   "execution_count": 112,
   "id": "afc515a5-1769-4259-8aa5-eef4da44e9cd",
   "metadata": {},
   "outputs": [
    {
     "name": "stdout",
     "output_type": "stream",
     "text": [
      "237\n",
      "237\n"
     ]
    }
   ],
   "source": [
    "print(dome_df['iso3_country'].nunique())\n",
    "print(inter_df['iso3_country'].nunique())"
   ]
  },
  {
   "cell_type": "code",
   "execution_count": 113,
   "id": "94a74002-d198-4300-8dfd-e4e5a0a09922",
   "metadata": {},
   "outputs": [
    {
     "name": "stdout",
     "output_type": "stream",
     "text": [
      "237\n"
     ]
    }
   ],
   "source": [
    "common_countries = set(dome_df['iso3_country']).intersection(set(inter_df['iso3_country']))\n",
    "print(len(common_countries))"
   ]
  },
  {
   "cell_type": "code",
   "execution_count": 114,
   "id": "9094593d-c5d1-4fda-b02a-05f72e816b49",
   "metadata": {},
   "outputs": [],
   "source": [
    "columns_to_drop = ['gas', 'source_name', 'created_date', 'sector' , 'modified_date']"
   ]
  },
  {
   "cell_type": "code",
   "execution_count": 115,
   "id": "f2d79947-9504-4fcb-9825-3ee585452f4e",
   "metadata": {},
   "outputs": [],
   "source": [
    "dome_df_clean = dome_df.drop(columns=columns_to_drop)"
   ]
  },
  {
   "cell_type": "code",
   "execution_count": 116,
   "id": "8a2cc62c-231f-4b40-a131-2c20185fece5",
   "metadata": {},
   "outputs": [],
   "source": [
    "inter_df_clean = inter_df.drop(columns=columns_to_drop)"
   ]
  },
  {
   "cell_type": "code",
   "execution_count": 117,
   "id": "0d6df36b-d33a-4b3d-ae49-3f91e937dfa1",
   "metadata": {},
   "outputs": [
    {
     "name": "stdout",
     "output_type": "stream",
     "text": [
      "<class 'pandas.core.frame.DataFrame'>\n",
      "RangeIndex: 236244 entries, 0 to 236243\n",
      "Data columns (total 11 columns):\n",
      " #   Column              Non-Null Count   Dtype \n",
      "---  ------              --------------   ----- \n",
      " 0   source_id           236244 non-null  int64 \n",
      " 1   iso3_country        236244 non-null  object\n",
      " 2   subsector           236244 non-null  object\n",
      " 3   start_time          236244 non-null  object\n",
      " 4   end_time            236244 non-null  object\n",
      " 5   source_type         236244 non-null  object\n",
      " 6   capacity            236244 non-null  object\n",
      " 7   capacity_factor     236244 non-null  object\n",
      " 8   activity            236244 non-null  object\n",
      " 9   emissions_factor    236244 non-null  object\n",
      " 10  emissions_quantity  236244 non-null  object\n",
      "dtypes: int64(1), object(10)\n",
      "memory usage: 19.8+ MB\n"
     ]
    }
   ],
   "source": [
    "dome_df_clean.info()"
   ]
  },
  {
   "cell_type": "code",
   "execution_count": 118,
   "id": "4298da3e-fad0-4ad0-8eff-f1ada93f700a",
   "metadata": {},
   "outputs": [
    {
     "name": "stdout",
     "output_type": "stream",
     "text": [
      "<class 'pandas.core.frame.DataFrame'>\n",
      "RangeIndex: 240167 entries, 0 to 240166\n",
      "Data columns (total 11 columns):\n",
      " #   Column              Non-Null Count   Dtype \n",
      "---  ------              --------------   ----- \n",
      " 0   source_id           240167 non-null  int64 \n",
      " 1   iso3_country        240167 non-null  object\n",
      " 2   subsector           240167 non-null  object\n",
      " 3   start_time          240167 non-null  object\n",
      " 4   end_time            240167 non-null  object\n",
      " 5   source_type         240167 non-null  object\n",
      " 6   capacity            240167 non-null  object\n",
      " 7   capacity_factor     240167 non-null  object\n",
      " 8   activity            240167 non-null  object\n",
      " 9   emissions_factor    240167 non-null  object\n",
      " 10  emissions_quantity  240167 non-null  object\n",
      "dtypes: int64(1), object(10)\n",
      "memory usage: 20.2+ MB\n"
     ]
    }
   ],
   "source": [
    "inter_df_clean.info()"
   ]
  },
  {
   "cell_type": "code",
   "execution_count": 119,
   "id": "b2dff0fd-bb70-424d-8779-13ab4fc0f239",
   "metadata": {},
   "outputs": [],
   "source": [
    "common_countries = set(dome_df_clean['iso3_country']).intersection(set(inter_df_clean['iso3_country']))"
   ]
  },
  {
   "cell_type": "code",
   "execution_count": 120,
   "id": "0564952f-9e1e-4a60-a38f-b835d2c8ba70",
   "metadata": {},
   "outputs": [],
   "source": [
    "final_list = []"
   ]
  },
  {
   "cell_type": "code",
   "execution_count": 121,
   "id": "fd5be632-7ff8-4727-abf2-85fdaece5381",
   "metadata": {},
   "outputs": [],
   "source": [
    "for country in common_countries:\n",
    "    dome_country = dome_df_clean[dome_df_clean['iso3_country'] == country]\n",
    "    inter_country = inter_df_clean[inter_df_clean['iso3_country'] == country]\n",
    "    "
   ]
  },
  {
   "cell_type": "code",
   "execution_count": 122,
   "id": "8895cb74-5d76-4f63-98a0-213afe1a4a9e",
   "metadata": {},
   "outputs": [],
   "source": [
    "final_emiss_df= pd.merge(dome_country, inter_country, on='iso3_country', how='inner')\n",
    "final_list.append(final_emiss_df)"
   ]
  },
  {
   "cell_type": "code",
   "execution_count": 123,
   "id": "76d3040b-4be7-4ca0-a10d-40c2e0eb810b",
   "metadata": {},
   "outputs": [],
   "source": [
    "final_emiss_df = pd.concat(final_list, ignore_index=True)"
   ]
  },
  {
   "cell_type": "code",
   "execution_count": 124,
   "id": "ba9c3ae7-e716-4b18-8070-a5f6aa8cc524",
   "metadata": {},
   "outputs": [],
   "source": [
    "final_emiss_df.to_csv('final_emissions_data.csv', index=False)"
   ]
  },
  {
   "cell_type": "code",
   "execution_count": 125,
   "id": "028b9266-259b-441a-a814-654da6e11834",
   "metadata": {},
   "outputs": [],
   "source": [
    "columns_to_keep = [\n",
    "    'source_id', 'iso3_country', 'subsector',\n",
    "    'start_time', 'end_time', 'source_type', 'capacity', 'capacity_factor',\n",
    "    'activity', 'emissions_factor', 'emissions_quantity'\n",
    "]"
   ]
  },
  {
   "cell_type": "code",
   "execution_count": 126,
   "id": "c2bc9454-f4ec-4237-a1a8-089bb343aaab",
   "metadata": {},
   "outputs": [],
   "source": [
    "dome_df_clean = dome_df[columns_to_keep]\n",
    "inter_df_clean = inter_df[columns_to_keep]"
   ]
  },
  {
   "cell_type": "code",
   "execution_count": 127,
   "id": "72bb2f21-4123-4c02-836b-db02062926b1",
   "metadata": {},
   "outputs": [],
   "source": [
    "final_emiss_df = pd.concat([dome_df_clean, inter_df_clean], ignore_index=True)"
   ]
  },
  {
   "cell_type": "code",
   "execution_count": 128,
   "id": "1bc1c849-16ce-467c-901a-efc0b2d8e932",
   "metadata": {},
   "outputs": [
    {
     "name": "stdout",
     "output_type": "stream",
     "text": [
      "(476411, 11)\n"
     ]
    }
   ],
   "source": [
    "print(final_emiss_df.shape)"
   ]
  },
  {
   "cell_type": "code",
   "execution_count": 129,
   "id": "254b4623-9225-47d9-969f-d569a0ef5142",
   "metadata": {},
   "outputs": [
    {
     "data": {
      "text/html": [
       "<div>\n",
       "<style scoped>\n",
       "    .dataframe tbody tr th:only-of-type {\n",
       "        vertical-align: middle;\n",
       "    }\n",
       "\n",
       "    .dataframe tbody tr th {\n",
       "        vertical-align: top;\n",
       "    }\n",
       "\n",
       "    .dataframe thead th {\n",
       "        text-align: right;\n",
       "    }\n",
       "</style>\n",
       "<table border=\"1\" class=\"dataframe\">\n",
       "  <thead>\n",
       "    <tr style=\"text-align: right;\">\n",
       "      <th></th>\n",
       "      <th>source_id</th>\n",
       "      <th>iso3_country</th>\n",
       "      <th>subsector</th>\n",
       "      <th>start_time</th>\n",
       "      <th>end_time</th>\n",
       "      <th>source_type</th>\n",
       "      <th>capacity</th>\n",
       "      <th>capacity_factor</th>\n",
       "      <th>activity</th>\n",
       "      <th>emissions_factor</th>\n",
       "      <th>emissions_quantity</th>\n",
       "    </tr>\n",
       "  </thead>\n",
       "  <tbody>\n",
       "    <tr>\n",
       "      <th>0</th>\n",
       "      <td>3170555</td>\n",
       "      <td>ABW</td>\n",
       "      <td>domestic-aviation</td>\n",
       "      <td>1/1/2023 0:00</td>\n",
       "      <td>1/31/2023 0:00</td>\n",
       "      <td>very low</td>\n",
       "      <td>very low</td>\n",
       "      <td>very low</td>\n",
       "      <td>very low</td>\n",
       "      <td>very low</td>\n",
       "      <td>very low</td>\n",
       "    </tr>\n",
       "    <tr>\n",
       "      <th>1</th>\n",
       "      <td>3170555</td>\n",
       "      <td>ABW</td>\n",
       "      <td>domestic-aviation</td>\n",
       "      <td>2/1/2023 0:00</td>\n",
       "      <td>2/28/2023 0:00</td>\n",
       "      <td>very low</td>\n",
       "      <td>very low</td>\n",
       "      <td>very low</td>\n",
       "      <td>very low</td>\n",
       "      <td>very low</td>\n",
       "      <td>very low</td>\n",
       "    </tr>\n",
       "    <tr>\n",
       "      <th>2</th>\n",
       "      <td>3170555</td>\n",
       "      <td>ABW</td>\n",
       "      <td>domestic-aviation</td>\n",
       "      <td>3/1/2023 0:00</td>\n",
       "      <td>3/31/2023 0:00</td>\n",
       "      <td>very low</td>\n",
       "      <td>very low</td>\n",
       "      <td>very low</td>\n",
       "      <td>very low</td>\n",
       "      <td>very low</td>\n",
       "      <td>very low</td>\n",
       "    </tr>\n",
       "    <tr>\n",
       "      <th>3</th>\n",
       "      <td>3170555</td>\n",
       "      <td>ABW</td>\n",
       "      <td>domestic-aviation</td>\n",
       "      <td>4/1/2023 0:00</td>\n",
       "      <td>4/30/2023 0:00</td>\n",
       "      <td>very low</td>\n",
       "      <td>very low</td>\n",
       "      <td>very low</td>\n",
       "      <td>very low</td>\n",
       "      <td>very low</td>\n",
       "      <td>very low</td>\n",
       "    </tr>\n",
       "    <tr>\n",
       "      <th>4</th>\n",
       "      <td>3170555</td>\n",
       "      <td>ABW</td>\n",
       "      <td>domestic-aviation</td>\n",
       "      <td>5/1/2023 0:00</td>\n",
       "      <td>5/31/2023 0:00</td>\n",
       "      <td>very low</td>\n",
       "      <td>very low</td>\n",
       "      <td>very low</td>\n",
       "      <td>very low</td>\n",
       "      <td>very low</td>\n",
       "      <td>very low</td>\n",
       "    </tr>\n",
       "  </tbody>\n",
       "</table>\n",
       "</div>"
      ],
      "text/plain": [
       "   source_id iso3_country          subsector     start_time        end_time  \\\n",
       "0    3170555          ABW  domestic-aviation  1/1/2023 0:00  1/31/2023 0:00   \n",
       "1    3170555          ABW  domestic-aviation  2/1/2023 0:00  2/28/2023 0:00   \n",
       "2    3170555          ABW  domestic-aviation  3/1/2023 0:00  3/31/2023 0:00   \n",
       "3    3170555          ABW  domestic-aviation  4/1/2023 0:00  4/30/2023 0:00   \n",
       "4    3170555          ABW  domestic-aviation  5/1/2023 0:00  5/31/2023 0:00   \n",
       "\n",
       "  source_type  capacity capacity_factor  activity emissions_factor  \\\n",
       "0    very low  very low        very low  very low         very low   \n",
       "1    very low  very low        very low  very low         very low   \n",
       "2    very low  very low        very low  very low         very low   \n",
       "3    very low  very low        very low  very low         very low   \n",
       "4    very low  very low        very low  very low         very low   \n",
       "\n",
       "  emissions_quantity  \n",
       "0           very low  \n",
       "1           very low  \n",
       "2           very low  \n",
       "3           very low  \n",
       "4           very low  "
      ]
     },
     "execution_count": 129,
     "metadata": {},
     "output_type": "execute_result"
    }
   ],
   "source": [
    "final_emiss_df.head()"
   ]
  },
  {
   "cell_type": "code",
   "execution_count": 130,
   "id": "d0bfdfd1-e537-42b5-8a6b-8608e60ec52d",
   "metadata": {},
   "outputs": [
    {
     "data": {
      "text/html": [
       "<div>\n",
       "<style scoped>\n",
       "    .dataframe tbody tr th:only-of-type {\n",
       "        vertical-align: middle;\n",
       "    }\n",
       "\n",
       "    .dataframe tbody tr th {\n",
       "        vertical-align: top;\n",
       "    }\n",
       "\n",
       "    .dataframe thead th {\n",
       "        text-align: right;\n",
       "    }\n",
       "</style>\n",
       "<table border=\"1\" class=\"dataframe\">\n",
       "  <thead>\n",
       "    <tr style=\"text-align: right;\">\n",
       "      <th></th>\n",
       "      <th>source_id</th>\n",
       "      <th>iso3_country</th>\n",
       "      <th>subsector</th>\n",
       "      <th>start_time</th>\n",
       "      <th>end_time</th>\n",
       "      <th>source_type</th>\n",
       "      <th>capacity</th>\n",
       "      <th>capacity_factor</th>\n",
       "      <th>activity</th>\n",
       "      <th>emissions_factor</th>\n",
       "      <th>emissions_quantity</th>\n",
       "    </tr>\n",
       "  </thead>\n",
       "  <tbody>\n",
       "    <tr>\n",
       "      <th>476406</th>\n",
       "      <td>3169756</td>\n",
       "      <td>ZWE</td>\n",
       "      <td>international-aviation</td>\n",
       "      <td>11/1/2024 0:00</td>\n",
       "      <td>11/30/2024 0:00</td>\n",
       "      <td>very high</td>\n",
       "      <td>very high</td>\n",
       "      <td>medium</td>\n",
       "      <td>medium</td>\n",
       "      <td>very high</td>\n",
       "      <td>medium</td>\n",
       "    </tr>\n",
       "    <tr>\n",
       "      <th>476407</th>\n",
       "      <td>3169756</td>\n",
       "      <td>ZWE</td>\n",
       "      <td>international-aviation</td>\n",
       "      <td>12/1/2024 0:00</td>\n",
       "      <td>12/31/2024 0:00</td>\n",
       "      <td>very high</td>\n",
       "      <td>very high</td>\n",
       "      <td>medium</td>\n",
       "      <td>medium</td>\n",
       "      <td>very high</td>\n",
       "      <td>medium</td>\n",
       "    </tr>\n",
       "    <tr>\n",
       "      <th>476408</th>\n",
       "      <td>3169756</td>\n",
       "      <td>ZWE</td>\n",
       "      <td>international-aviation</td>\n",
       "      <td>1/1/2025 0:00</td>\n",
       "      <td>1/31/2025 0:00</td>\n",
       "      <td>very high</td>\n",
       "      <td>very high</td>\n",
       "      <td>medium</td>\n",
       "      <td>medium</td>\n",
       "      <td>very high</td>\n",
       "      <td>medium</td>\n",
       "    </tr>\n",
       "    <tr>\n",
       "      <th>476409</th>\n",
       "      <td>3169756</td>\n",
       "      <td>ZWE</td>\n",
       "      <td>international-aviation</td>\n",
       "      <td>2/1/2025 0:00</td>\n",
       "      <td>2/28/2025 0:00</td>\n",
       "      <td>very high</td>\n",
       "      <td>very high</td>\n",
       "      <td>medium</td>\n",
       "      <td>medium</td>\n",
       "      <td>very high</td>\n",
       "      <td>medium</td>\n",
       "    </tr>\n",
       "    <tr>\n",
       "      <th>476410</th>\n",
       "      <td>3169756</td>\n",
       "      <td>ZWE</td>\n",
       "      <td>international-aviation</td>\n",
       "      <td>3/1/2025 0:00</td>\n",
       "      <td>3/31/2025 0:00</td>\n",
       "      <td>very high</td>\n",
       "      <td>very high</td>\n",
       "      <td>medium</td>\n",
       "      <td>medium</td>\n",
       "      <td>very high</td>\n",
       "      <td>medium</td>\n",
       "    </tr>\n",
       "  </tbody>\n",
       "</table>\n",
       "</div>"
      ],
      "text/plain": [
       "        source_id iso3_country               subsector      start_time  \\\n",
       "476406    3169756          ZWE  international-aviation  11/1/2024 0:00   \n",
       "476407    3169756          ZWE  international-aviation  12/1/2024 0:00   \n",
       "476408    3169756          ZWE  international-aviation   1/1/2025 0:00   \n",
       "476409    3169756          ZWE  international-aviation   2/1/2025 0:00   \n",
       "476410    3169756          ZWE  international-aviation   3/1/2025 0:00   \n",
       "\n",
       "               end_time source_type   capacity capacity_factor activity  \\\n",
       "476406  11/30/2024 0:00   very high  very high          medium   medium   \n",
       "476407  12/31/2024 0:00   very high  very high          medium   medium   \n",
       "476408   1/31/2025 0:00   very high  very high          medium   medium   \n",
       "476409   2/28/2025 0:00   very high  very high          medium   medium   \n",
       "476410   3/31/2025 0:00   very high  very high          medium   medium   \n",
       "\n",
       "       emissions_factor emissions_quantity  \n",
       "476406        very high             medium  \n",
       "476407        very high             medium  \n",
       "476408        very high             medium  \n",
       "476409        very high             medium  \n",
       "476410        very high             medium  "
      ]
     },
     "execution_count": 130,
     "metadata": {},
     "output_type": "execute_result"
    }
   ],
   "source": [
    "final_emiss_df.tail()"
   ]
  },
  {
   "cell_type": "code",
   "execution_count": 131,
   "id": "cb73343b-e464-43a9-96d9-ab1cddf6338a",
   "metadata": {},
   "outputs": [],
   "source": [
    "final_emiss_df.to_csv('final_emissions_data_cleand.csv', index=False)"
   ]
  },
  {
   "cell_type": "code",
   "execution_count": 132,
   "id": "6fa27234-fda1-49f5-9729-70de251302a2",
   "metadata": {},
   "outputs": [
    {
     "name": "stdout",
     "output_type": "stream",
     "text": [
      "['very low' 'very high']\n"
     ]
    }
   ],
   "source": [
    "print(final_emiss_df['source_type'].unique())"
   ]
  },
  {
   "cell_type": "code",
   "execution_count": 133,
   "id": "bfbb7640-26e0-458f-910a-345729149f44",
   "metadata": {},
   "outputs": [],
   "source": [
    "df = pd.read_csv('final_emissions_data_cleand.csv') "
   ]
  },
  {
   "cell_type": "code",
   "execution_count": 134,
   "id": "da96b10c-d155-423b-8a3b-323b0b011210",
   "metadata": {},
   "outputs": [],
   "source": [
    "label_map = {\n",
    "    'very low': 1,\n",
    "    'low': 2,\n",
    "    'medium': 3,\n",
    "    'high': 4,\n",
    "    'very high': 5\n",
    "}\n",
    "columns_to_convert = [\n",
    "    'source_type',\n",
    "    'capacity',\n",
    "    'capacity_factor',\n",
    "    'activity',\n",
    "    'emissions_factor',\n",
    "    'emissions_quantity'\n",
    "]\n",
    "for col in columns_to_convert:\n",
    "    if col in df.columns:\n",
    "        df[col] = df[col].map(label_map)"
   ]
  },
  {
   "cell_type": "code",
   "execution_count": 135,
   "id": "1d50e8cc-d4e1-4f93-9f9d-67d097cfc5fb",
   "metadata": {},
   "outputs": [],
   "source": [
    "df.to_csv('aviation_data_updated.csv', index=False)"
   ]
  },
  {
   "cell_type": "code",
   "execution_count": 136,
   "id": "f784e8a2-df1a-4e98-af4e-d5598cd6fb1e",
   "metadata": {},
   "outputs": [
    {
     "name": "stdout",
     "output_type": "stream",
     "text": [
      "Requirement already satisfied: pycountry in c:\\users\\user\\anaconda3\\lib\\site-packages (24.6.1)Note: you may need to restart the kernel to use updated packages.\n",
      "\n",
      "Requirement already satisfied: world_bank_data in c:\\users\\user\\anaconda3\\lib\\site-packages (0.1.4)\n",
      "Requirement already satisfied: cachetools in c:\\users\\user\\anaconda3\\lib\\site-packages (from world_bank_data) (5.3.3)\n",
      "Requirement already satisfied: pandas in c:\\users\\user\\anaconda3\\lib\\site-packages (from world_bank_data) (2.2.2)\n",
      "Requirement already satisfied: requests in c:\\users\\user\\anaconda3\\lib\\site-packages (from world_bank_data) (2.32.3)\n",
      "Requirement already satisfied: numpy>=1.26.0 in c:\\users\\user\\anaconda3\\lib\\site-packages (from pandas->world_bank_data) (1.26.4)\n",
      "Requirement already satisfied: python-dateutil>=2.8.2 in c:\\users\\user\\anaconda3\\lib\\site-packages (from pandas->world_bank_data) (2.9.0.post0)\n",
      "Requirement already satisfied: pytz>=2020.1 in c:\\users\\user\\anaconda3\\lib\\site-packages (from pandas->world_bank_data) (2024.1)\n",
      "Requirement already satisfied: tzdata>=2022.7 in c:\\users\\user\\anaconda3\\lib\\site-packages (from pandas->world_bank_data) (2023.3)\n",
      "Requirement already satisfied: charset-normalizer<4,>=2 in c:\\users\\user\\anaconda3\\lib\\site-packages (from requests->world_bank_data) (3.3.2)\n",
      "Requirement already satisfied: idna<4,>=2.5 in c:\\users\\user\\anaconda3\\lib\\site-packages (from requests->world_bank_data) (3.7)\n",
      "Requirement already satisfied: urllib3<3,>=1.21.1 in c:\\users\\user\\anaconda3\\lib\\site-packages (from requests->world_bank_data) (2.2.3)\n",
      "Requirement already satisfied: certifi>=2017.4.17 in c:\\users\\user\\anaconda3\\lib\\site-packages (from requests->world_bank_data) (2025.4.26)\n",
      "Requirement already satisfied: six>=1.5 in c:\\users\\user\\anaconda3\\lib\\site-packages (from python-dateutil>=2.8.2->pandas->world_bank_data) (1.16.0)\n"
     ]
    }
   ],
   "source": [
    "pip install pycountry world_bank_data"
   ]
  },
  {
   "cell_type": "code",
   "execution_count": 140,
   "id": "11e58366-a5f1-4ece-b7da-e15e74556b57",
   "metadata": {},
   "outputs": [],
   "source": [
    "import pycountry\n",
    "import world_bank_data as wb"
   ]
  },
  {
   "cell_type": "code",
   "execution_count": null,
   "id": "7d90ab1f-24dc-4cc6-904d-ef2aaa0f6fed",
   "metadata": {},
   "outputs": [],
   "source": []
  }
 ],
 "metadata": {
  "kernelspec": {
   "display_name": "Python [conda env:base] *",
   "language": "python",
   "name": "conda-base-py"
  },
  "language_info": {
   "codemirror_mode": {
    "name": "ipython",
    "version": 3
   },
   "file_extension": ".py",
   "mimetype": "text/x-python",
   "name": "python",
   "nbconvert_exporter": "python",
   "pygments_lexer": "ipython3",
   "version": "3.12.7"
  }
 },
 "nbformat": 4,
 "nbformat_minor": 5
}
